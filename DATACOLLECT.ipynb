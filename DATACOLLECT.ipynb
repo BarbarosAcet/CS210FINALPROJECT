{
 "cells": [
  {
   "cell_type": "code",
   "execution_count": 47,
   "id": "0e69b6ed",
   "metadata": {},
   "outputs": [],
   "source": [
    "import pandas as pd\n",
    "import json\n",
    "import seaborn as sns\n",
    "import matplotlib.pyplot as plt\n",
    "\n",
    "with open('Playlist1.json', 'r') as file:\n",
    "    data = json.load(file)\n",
    "playlists = []\n",
    "\n",
    "for playlist in data['playlists']:\n",
    "    playlist_data = pd.DataFrame(playlist['items'])\n",
    "    playlist_data['playlist_name'] = playlist['name']\n",
    "    playlist_data['last_modified_date'] = playlist['lastModifiedDate']\n",
    "    playlist_data['number_of_followers'] = playlist['numberOfFollowers']\n",
    "    playlists.append(playlist_data)\n",
    "    \n",
    "all_playlists_data = pd.concat(playlists, ignore_index=True)\n",
    "\n",
    "\n",
    "track_info = pd.json_normalize(all_playlists_data['track'])\n",
    "\n",
    "# Concatenate the new columns with the original DataFrame\n",
    "all_playlists_data = pd.concat([all_playlists_data, track_info], axis=1)\n",
    "\n",
    "# Drop the original 'track' column\n",
    "all_playlists_data = all_playlists_data.drop('track', axis=1)\n",
    "all_playlists_data = all_playlists_data.drop('episode', axis=1)\n",
    "all_playlists_data = all_playlists_data.drop('localTrack', axis=1)\n",
    "all_playlists_data = all_playlists_data.drop('number_of_followers', axis=1)\n",
    "\n",
    "\n",
    "\n",
    "# List of file paths for JSON files\n",
    "file_paths = ['StreamingHistory0.json', 'StreamingHistory1.json', 'StreamingHistory2.json', 'StreamingHistory3.json']\n",
    "# Load each JSON file into a separate DataFrame\n",
    "dfs = [pd.read_json(file_path) for file_path in file_paths]\n",
    "# Concatenate the DataFrames into a single DataFrame\n",
    "SearchHistory = pd.concat(dfs, ignore_index=True)\n",
    "\n",
    "# Load the JSON file into a DataFrame\n",
    "with open('YourLibrary.json', 'r') as file:\n",
    "    data = json.load(file)\n",
    "\n",
    "\n",
    "LibraryData = pd.DataFrame(data['tracks'])\n",
    "\n",
    "\n"
   ]
  },
  {
   "cell_type": "code",
   "execution_count": null,
   "id": "5ffd1103",
   "metadata": {},
   "outputs": [],
   "source": []
  },
  {
   "cell_type": "code",
   "execution_count": null,
   "id": "868b34a8",
   "metadata": {},
   "outputs": [],
   "source": []
  }
 ],
 "metadata": {
  "kernelspec": {
   "display_name": "Python 3 (ipykernel)",
   "language": "python",
   "name": "python3"
  },
  "language_info": {
   "codemirror_mode": {
    "name": "ipython",
    "version": 3
   },
   "file_extension": ".py",
   "mimetype": "text/x-python",
   "name": "python",
   "nbconvert_exporter": "python",
   "pygments_lexer": "ipython3",
   "version": "3.11.5"
  }
 },
 "nbformat": 4,
 "nbformat_minor": 5
}
